{
 "cells": [
  {
   "cell_type": "markdown",
   "metadata": {},
   "source": [
    "# SPRINT 7\n"
   ]
  },
  {
   "cell_type": "markdown",
   "metadata": {},
   "source": [
    "## NIVEL 1"
   ]
  },
  {
   "cell_type": "markdown",
   "metadata": {},
   "source": [
    "Ejercicio 1. Calculadora del índice de masa corporal. Escribe una función que calcule el IMC ingresado por el usuario/a, es decir, quién lo ejecute tendrá que ingresar estos datos. Puedes obtener más información de su cálculo en:\n",
    "\n",
    "La función tiene que clasificar el resultado en sus respectivas categorías.\n"
   ]
  },
  {
   "cell_type": "code",
   "execution_count": 3,
   "metadata": {},
   "outputs": [
    {
     "name": "stdout",
     "output_type": "stream",
     "text": [
      "Tu IMC es: 22.229061933586404\n",
      "Clasificación: Peso normal\n"
     ]
    }
   ],
   "source": [
    "def calcular_imc(peso, altura):\n",
    "    imc = peso / (altura ** 2)  \n",
    "    print(\"Tu IMC es:\", imc)\n",
    "\n",
    "    if imc < 18.5:\n",
    "        print(\"Clasificación: Bajo peso\")\n",
    "    elif 18.5 <= imc < 24.9:\n",
    "        print(\"Clasificación: Peso normal\")\n",
    "    elif 25 <= imc < 29.9:\n",
    "        print(\"Clasificación: Sobrepeso\")\n",
    "    else:\n",
    "        print(\"Clasificación: Obesidad\")\n",
    "\n",
    "peso = input(\"Indica tu peso en kg: \").replace(',', '.') \n",
    "peso = float(peso)  \n",
    "\n",
    "altura = input(\"Indica tu altura en metros: \").replace(',', '.') \n",
    "altura = float(altura)  \n",
    "\n",
    "calcular_imc(peso, altura)"
   ]
  },
  {
   "cell_type": "markdown",
   "metadata": {},
   "source": [
    "Ejercicio 2. Convertidor de temperaturas. Existen varias unidades de temperatura utilizadas en diferentes contextos y regiones. Las más comunes son Celsius (°C), Fahrenheit (°F) y Kelvin (K). También existen otras unidades como Rankine (°Ra) y Réaumur (°Re). Selecciona al menos 2 conversores, de tal manera que al introducir una temperatura devuelva, como mínimo, dos conversiones.\n"
   ]
  },
  {
   "cell_type": "code",
   "execution_count": 29,
   "metadata": {},
   "outputs": [
    {
     "name": "stdout",
     "output_type": "stream",
     "text": [
      "Has introducido una temperatura en Celsius de: 56.9\n",
      "La temperatura en Fahrenheit es: 134.42000000000002\n",
      "La temperatura en Kelvin es: 330.04999999999995\n"
     ]
    }
   ],
   "source": [
    "\n",
    "def convertir_temperatura(celsius):\n",
    "    fahrenheit = (celsius * 9/5) + 32\n",
    "    kelvin = celsius + 273.15\n",
    "    \n",
    "    print(\"Has introducido una temperatura en Celsius de:\", celsius)\n",
    "    print(\"La temperatura en Fahrenheit es:\", fahrenheit)\n",
    "    print(\"La temperatura en Kelvin es:\", kelvin)\n",
    "\n",
    "celsius = input(\"Introduce temperatura en Celsius: \").replace(',','.')\n",
    "celsius = float(celsius)\n",
    "\n",
    "convertir_temperatura(celsius)"
   ]
  },
  {
   "cell_type": "markdown",
   "metadata": {},
   "source": [
    "Ejercicio 3. Contador de palabras de un texto. Escribe una función que, dado un texto  muestre las veces que aparece cada palabra.\n"
   ]
  },
  {
   "cell_type": "code",
   "execution_count": 5,
   "metadata": {},
   "outputs": [
    {
     "name": "stdout",
     "output_type": "stream",
     "text": [
      "Has introducido el siguiente texto: la casa de la esquina es una casa triste y solitaria\n",
      "'triste' aparece 1 vez/veces.\n",
      "'casa' aparece 2 vez/veces.\n",
      "'una' aparece 1 vez/veces.\n",
      "'la' aparece 2 vez/veces.\n",
      "'esquina' aparece 1 vez/veces.\n",
      "'de' aparece 1 vez/veces.\n",
      "'y' aparece 1 vez/veces.\n",
      "'solitaria' aparece 1 vez/veces.\n",
      "'es' aparece 1 vez/veces.\n"
     ]
    }
   ],
   "source": [
    "import string  \n",
    "\n",
    "def contar_palabras_en_texto():\n",
    "    texto = input(\"Introduce un texto: \")  \n",
    "    texto = texto.lower()  \n",
    "    texto = texto.translate(str.maketrans(\"\", \"\", string.punctuation))  \n",
    "    palabras = texto.split() \n",
    "    print(\"Has introducido el siguiente texto:\", texto)\n",
    "\n",
    "    for palabra in set(palabras):\n",
    "        print(\"'\" + palabra + \"' aparece \" + str(palabras.count(palabra)) + \" vez/veces.\")\n",
    "\n",
    "contar_palabras_en_texto() "
   ]
  },
  {
   "cell_type": "markdown",
   "metadata": {},
   "source": [
    "Ejercicio 4. \n",
    "Diccionario inverso. Resulta que el cliente tiene una encuesta muy antigua que se almacena en un diccionario y los resultados los necesita al revés, es decir, intercambiados las claves y los valores. Los valores y claves en el diccionario original son únicos; si este no es el caso, la función tendría que imprimir un mensaje de advertencia."
   ]
  },
  {
   "cell_type": "code",
   "execution_count": 7,
   "metadata": {},
   "outputs": [
    {
     "name": "stdout",
     "output_type": "stream",
     "text": [
      "{1: 'a', 2: 'b', 3: 'c', 4: 'd', 5: 'e'}\n"
     ]
    }
   ],
   "source": [
    "# Diccionario sin duplicados\n",
    "diccionario = {\n",
    "    'a': 1,\n",
    "    'b': 2,\n",
    "    'c': 3,\n",
    "    'd': 4,\n",
    "    'e': 5  \n",
    "}\n",
    "\n",
    "# Diccionario 2 con duplicados\n",
    "\n",
    "diccionario2 = {\n",
    "    'a': 1,\n",
    "    'b': 2,\n",
    "    'c': 3,\n",
    "    'd': 4,\n",
    "    'e': 2 \n",
    "}\n",
    "\n",
    "# En este caso dependiendo de si eliges el diccionario  o el diccionario2 te saldrá un resultado u otro.\n",
    "\n",
    "def reverse_dictionary(diccionario):\n",
    "    diccionario_invertido = {} \n",
    "    for clave, valor in diccionario.items():\n",
    "        if valor in diccionario_invertido:\n",
    "            print(\"Error: multiple keys for one value\") \n",
    "            return  \n",
    "        diccionario_invertido[valor] = clave  \n",
    "    print(diccionario_invertido)  \n",
    "\n",
    "reverse_dictionary(diccionario)\n"
   ]
  }
 ],
 "metadata": {
  "kernelspec": {
   "display_name": "base",
   "language": "python",
   "name": "python3"
  },
  "language_info": {
   "codemirror_mode": {
    "name": "ipython",
    "version": 3
   },
   "file_extension": ".py",
   "mimetype": "text/x-python",
   "name": "python",
   "nbconvert_exporter": "python",
   "pygments_lexer": "ipython3",
   "version": "3.11.7"
  }
 },
 "nbformat": 4,
 "nbformat_minor": 2
}
